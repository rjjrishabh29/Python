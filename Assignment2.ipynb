{
  "nbformat": 4,
  "nbformat_minor": 0,
  "metadata": {
    "colab": {
      "name": "Assignment2.ipynb",
      "provenance": [],
      "include_colab_link": true
    },
    "kernelspec": {
      "name": "python3",
      "display_name": "Python 3"
    }
  },
  "cells": [
    {
      "cell_type": "markdown",
      "metadata": {
        "id": "view-in-github",
        "colab_type": "text"
      },
      "source": [
        "<a href=\"https://colab.research.google.com/github/rjjrishabh29/Python/blob/master/Assignment2.ipynb\" target=\"_parent\"><img src=\"https://colab.research.google.com/assets/colab-badge.svg\" alt=\"Open In Colab\"/></a>"
      ]
    },
    {
      "cell_type": "code",
      "metadata": {
        "id": "yKl9EdEGTjr2",
        "colab_type": "code",
        "colab": {
          "base_uri": "https://localhost:8080/",
          "height": 51
        },
        "outputId": "b427261b-e801-4242-e805-d6cd08d795bb"
      },
      "source": [
        "#1 read name and print hello message with name\n",
        " \n",
        "a=input()\n",
        "print(\"Hello \"+a)"
      ],
      "execution_count": 1,
      "outputs": [
        {
          "output_type": "stream",
          "text": [
            "RISHABH\n",
            "Hello RISHABH\n"
          ],
          "name": "stdout"
        }
      ]
    },
    {
      "cell_type": "code",
      "metadata": {
        "id": "XMF9r86yUIH6",
        "colab_type": "code",
        "colab": {
          "base_uri": "https://localhost:8080/",
          "height": 119
        },
        "outputId": "71ad74d7-9086-4e9f-f577-935ba71d27b1"
      },
      "source": [
        "#2 read two numbers and print their sum,difference,product,division\n",
        "\n",
        "a=int(input(\"Enter Number: \"))\n",
        "b=int(input(\"Enter Number: \"))\n",
        "print(\"Sum is: \",a+b)\n",
        "print(\"Difference is: \",a-b)\n",
        "print(\"Product is: \",a*b)\n",
        "print(\"Division is: \",a/b)\n"
      ],
      "execution_count": 2,
      "outputs": [
        {
          "output_type": "stream",
          "text": [
            "Enter Number: 8\n",
            "Enter Number: 4\n",
            "Sum is:  12\n",
            "Difference is:  4\n",
            "Product is:  32\n",
            "Division is:  2.0\n"
          ],
          "name": "stdout"
        }
      ]
    },
    {
      "cell_type": "code",
      "metadata": {
        "id": "f15uSrmTU31N",
        "colab_type": "code",
        "colab": {
          "base_uri": "https://localhost:8080/",
          "height": 68
        },
        "outputId": "6e6fd1b3-e08d-4f4d-b411-a64680a715d5"
      },
      "source": [
        "#3 word and character count of a given string\n",
        "\n",
        "a=input(\"Enter string: \")\n",
        "print(\"Words are: \",len(a.split()))\n",
        "print(\"Chatracters are: \",len(a))"
      ],
      "execution_count": 3,
      "outputs": [
        {
          "output_type": "stream",
          "text": [
            "Enter string: IOT LAB CLASSWORK\n",
            "Words are:  3\n",
            "Chatracters are:  17\n"
          ],
          "name": "stdout"
        }
      ]
    },
    {
      "cell_type": "code",
      "metadata": {
        "id": "vXu_L_k8WXD3",
        "colab_type": "code",
        "colab": {
          "base_uri": "https://localhost:8080/",
          "height": 153
        },
        "outputId": "7817f94f-f2ea-4f27-cd42-eeadde13475e"
      },
      "source": [
        "#4 area of a given shape(rectangle,triangle,circle) \n",
        "\n",
        "import math\n",
        "a=int(input(\"Enter length: \"))\n",
        "b=int(input(\"Enter width: \"))\n",
        "print(\"Area of rectangle is: \",a*b)\n",
        "a=int(input(\"Enter base: \"))\n",
        "b=int(input(\"enter height: \"))\n",
        "print(\"Area of triangle is: \",(a*b)/2)\n",
        "a=int(input(\"Enter radius\"))\n",
        "print(\"Area of circle is: \",(math.pi*(a*a)))\n"
      ],
      "execution_count": 4,
      "outputs": [
        {
          "output_type": "stream",
          "text": [
            "Enter length: 5\n",
            "Enter width: 5\n",
            "Area of rectangle is:  25\n",
            "Enter base: 9\n",
            "enter height: 8\n",
            "Area of triangle is:  36.0\n",
            "Enter radius5\n",
            "Area of circle is:  78.53981633974483\n"
          ],
          "name": "stdout"
        }
      ]
    },
    {
      "cell_type": "code",
      "metadata": {
        "id": "MWaxhqg_YTzG",
        "colab_type": "code",
        "colab": {
          "base_uri": "https://localhost:8080/",
          "height": 51
        },
        "outputId": "a8d74f5c-f95c-4318-df65-06906c17ea44"
      },
      "source": [
        "#5 square root of a number\n",
        "\n",
        "import math\n",
        "a=int(input(\"Enter number: \"))\n",
        "print(\"Square root is: \",math.sqrt(a))"
      ],
      "execution_count": 5,
      "outputs": [
        {
          "output_type": "stream",
          "text": [
            "Enter number: 16\n",
            "Square root is:  4.0\n"
          ],
          "name": "stdout"
        }
      ]
    },
    {
      "cell_type": "code",
      "metadata": {
        "id": "Xh_TvY0Msuqv",
        "colab_type": "code",
        "colab": {
          "base_uri": "https://localhost:8080/",
          "height": 85
        },
        "outputId": "047336b4-5773-4f78-f33a-0ff113c62ea3"
      },
      "source": [
        "#6 solve quardratic equation\n",
        "\n",
        "import math\n",
        "a=int(input(\"Enter value: \"))\n",
        "b=int(input(\"Enter value: \"))\n",
        "c=int(input(\"Enter value: \"))\n",
        "root1 = 0\n",
        "root2 = 0\n",
        "temp = pow(b,2)-4*a*c;\n",
        "if temp < 0:\n",
        "  print (\"Imaginary\")\n",
        "else: \n",
        "  root1=math.floor((-1*b+math.sqrt(temp))/(2*a))\n",
        "  root2=math.floor((-1*b-math.sqrt(temp))/(2*a))\n",
        "  print( max(root1,root2),min(root1,root2))"
      ],
      "execution_count": 6,
      "outputs": [
        {
          "output_type": "stream",
          "text": [
            "Enter value: 1\n",
            "Enter value: -5\n",
            "Enter value: 9\n",
            "Imaginary\n"
          ],
          "name": "stdout"
        }
      ]
    },
    {
      "cell_type": "code",
      "metadata": {
        "id": "SF7TgnW1t1wm",
        "colab_type": "code",
        "colab": {
          "base_uri": "https://localhost:8080/",
          "height": 85
        },
        "outputId": "a2134fdd-1901-4965-c2c4-28f81408e450"
      },
      "source": [
        "#7 swap 2 variables\n",
        "\n",
        "a=input(\"Enter variable: \")\n",
        "b=input(\"Enter variable: \")\n",
        "print(\"Before swapping: \"+a+\" \"+b)\n",
        "a,b=b,a\n",
        "print(\"After swapping: \"+a+\" \"+b)"
      ],
      "execution_count": 7,
      "outputs": [
        {
          "output_type": "stream",
          "text": [
            "Enter variable: 5\n",
            "Enter variable: 9\n",
            "Before swapping: 5 9\n",
            "After swapping: 9 5\n"
          ],
          "name": "stdout"
        }
      ]
    },
    {
      "cell_type": "code",
      "metadata": {
        "id": "gULTw2IXvdfG",
        "colab_type": "code",
        "colab": {
          "base_uri": "https://localhost:8080/",
          "height": 34
        },
        "outputId": "858ffe24-a01d-4b63-9d72-89923af5fd4f"
      },
      "source": [
        "#8 generate a random number\n",
        "\n",
        "import random\n",
        "print(random.randint(1,100))"
      ],
      "execution_count": 8,
      "outputs": [
        {
          "output_type": "stream",
          "text": [
            "36\n"
          ],
          "name": "stdout"
        }
      ]
    },
    {
      "cell_type": "code",
      "metadata": {
        "id": "6jbs71lKwcp0",
        "colab_type": "code",
        "colab": {
          "base_uri": "https://localhost:8080/",
          "height": 51
        },
        "outputId": "789f454f-d76f-4bf6-887e-2cb02d22ed38"
      },
      "source": [
        "#9 covert kilometers to miles\n",
        "\n",
        "kilometers = float(input(\"Enter value in kilometers: \"))\n",
        "conv_fac = 0.621371\n",
        "miles = kilometers * conv_fac\n",
        "print(\"Miles is: \",miles)\n",
        "\n"
      ],
      "execution_count": 9,
      "outputs": [
        {
          "output_type": "stream",
          "text": [
            "Enter value in kilometers: 98\n",
            "Miles is:  60.894358000000004\n"
          ],
          "name": "stdout"
        }
      ]
    },
    {
      "cell_type": "code",
      "metadata": {
        "id": "FfyLcPVBxUK5",
        "colab_type": "code",
        "colab": {
          "base_uri": "https://localhost:8080/",
          "height": 51
        },
        "outputId": "00eea2a9-066a-4622-8261-49c08fdaf89b"
      },
      "source": [
        "#10 Convert celsius to fahrenheit\n",
        "\n",
        "celsius =float(input(\"Enter value of celsius: \"))\n",
        "fahrenheit = (celsius * 1.8) + 32\n",
        "print(\"Fahrenheit is: \",fahrenheit)"
      ],
      "execution_count": 10,
      "outputs": [
        {
          "output_type": "stream",
          "text": [
            "Enter value of celsius: 98\n",
            "Fahrenheit is:  208.4\n"
          ],
          "name": "stdout"
        }
      ]
    },
    {
      "cell_type": "code",
      "metadata": {
        "id": "dqJ4FT5NyG_F",
        "colab_type": "code",
        "colab": {
          "base_uri": "https://localhost:8080/",
          "height": 51
        },
        "outputId": "a9536544-ad05-43af-b4f7-ad136f0f1750"
      },
      "source": [
        "#11 check if number is positive negative or 0\n",
        "\n",
        "a=int(input(\"Enter number: \"))\n",
        "if a==0:\n",
        "  print(\"No. is Zero\")\n",
        "elif a<0:\n",
        "  print(\"No is Negative\")\n",
        "else:\n",
        "  print(\"No is positive\")"
      ],
      "execution_count": 11,
      "outputs": [
        {
          "output_type": "stream",
          "text": [
            "Enter number: 965\n",
            "No is positive\n"
          ],
          "name": "stdout"
        }
      ]
    },
    {
      "cell_type": "code",
      "metadata": {
        "id": "OgRSjztvynYa",
        "colab_type": "code",
        "colab": {
          "base_uri": "https://localhost:8080/",
          "height": 51
        },
        "outputId": "7cb847a0-ebed-4eb0-89b0-c29914b9a286"
      },
      "source": [
        "#12 check if a number is odd or even\n",
        "\n",
        "a=int(input(\"Enter Number: \"))\n",
        "if a%2==0:\n",
        "  print(\"No. is even\")\n",
        "else:\n",
        "  print(\"No. is odd\")"
      ],
      "execution_count": 12,
      "outputs": [
        {
          "output_type": "stream",
          "text": [
            "Enter Number: 5\n",
            "No. is odd\n"
          ],
          "name": "stdout"
        }
      ]
    },
    {
      "cell_type": "code",
      "metadata": {
        "id": "aHrdounmzBec",
        "colab_type": "code",
        "colab": {
          "base_uri": "https://localhost:8080/",
          "height": 51
        },
        "outputId": "97c86635-763d-4a1b-aba6-c911046ba83e"
      },
      "source": [
        "#13 check if year is leap year\n",
        "\n",
        "year=int(input(\"Enter year: \"))\n",
        "if (year % 4) == 0:\n",
        "   if (year % 100) == 0:\n",
        "       if (year % 400) == 0:\n",
        "           print(\"{0} is a leap year\".format(year))\n",
        "       else:\n",
        "           print(\"{0} is not a leap year\".format(year))\n",
        "   else:\n",
        "       print(\"{0} is a leap year\".format(year))\n",
        "else:\n",
        "   print(\"{0} is not a leap year\".format(year))"
      ],
      "execution_count": 13,
      "outputs": [
        {
          "output_type": "stream",
          "text": [
            "Enter year: 598\n",
            "598 is not a leap year\n"
          ],
          "name": "stdout"
        }
      ]
    },
    {
      "cell_type": "code",
      "metadata": {
        "id": "JVDE5qiLznO0",
        "colab_type": "code",
        "colab": {
          "base_uri": "https://localhost:8080/",
          "height": 85
        },
        "outputId": "3708fecd-f05b-4e50-98fc-7d4789b030a4"
      },
      "source": [
        "#14 find largest among 3 numbers\n",
        "a=int(input(\"Enter number: \"))\n",
        "b=int(input(\"Enter number: \"))\n",
        "c=int(input(\"Enter number: \"))\n",
        "print(\"Maximum number is: \",max(list([a,b,c])))"
      ],
      "execution_count": 14,
      "outputs": [
        {
          "output_type": "stream",
          "text": [
            "Enter number: 45\n",
            "Enter number: 58\n",
            "Enter number: 89\n",
            "Maximum number is:  89\n"
          ],
          "name": "stdout"
        }
      ]
    },
    {
      "cell_type": "code",
      "metadata": {
        "id": "GSDyznSQz__T",
        "colab_type": "code",
        "colab": {
          "base_uri": "https://localhost:8080/",
          "height": 204
        },
        "outputId": "3a63387f-3ac9-452e-c63c-bbdb82c051c1"
      },
      "source": [
        "#15 print all prime numbers in an interval\n",
        "\n",
        "lower = int(input(\"Enter lower range: \"))  \n",
        "upper = int(input(\"Enter upper range: \"))  \n",
        "  \n",
        "for num in range(lower,upper + 1):  \n",
        "   if num > 1:  \n",
        "       for i in range(2,num):  \n",
        "           if (num % i) == 0:  \n",
        "               break  \n",
        "       else:  \n",
        "           print(num)  "
      ],
      "execution_count": 15,
      "outputs": [
        {
          "output_type": "stream",
          "text": [
            "Enter lower range: 789\n",
            "Enter upper range: 854\n",
            "797\n",
            "809\n",
            "811\n",
            "821\n",
            "823\n",
            "827\n",
            "829\n",
            "839\n",
            "853\n"
          ],
          "name": "stdout"
        }
      ]
    },
    {
      "cell_type": "code",
      "metadata": {
        "id": "BDrn6rWt1P7Y",
        "colab_type": "code",
        "colab": {
          "base_uri": "https://localhost:8080/",
          "height": 51
        },
        "outputId": "9b63b7b7-5516-496d-a24b-e05850bffbbc"
      },
      "source": [
        "#16 find factorial of a number\n",
        "\n",
        "num =int(input(\"Enter number: \"))\n",
        "factorial = 1\n",
        "if num < 0:\n",
        "   print(\"Sorry, factorial does not exist for negative numbers\")\n",
        "elif num == 0:\n",
        "   print(\"The factorial of 0 is 1\")\n",
        "else:\n",
        "   for i in range(1,num + 1):\n",
        "       factorial = factorial*i\n",
        "   print(\"The factorial of\",num,\"is\",factorial)"
      ],
      "execution_count": 17,
      "outputs": [
        {
          "output_type": "stream",
          "text": [
            "Enter number: 15\n",
            "The factorial of 15 is 1307674368000\n"
          ],
          "name": "stdout"
        }
      ]
    },
    {
      "cell_type": "code",
      "metadata": {
        "id": "xQqzZt_M1uXz",
        "colab_type": "code",
        "colab": {
          "base_uri": "https://localhost:8080/",
          "height": 204
        },
        "outputId": "a9907bc5-5c84-4596-eb6a-b88555ed0118"
      },
      "source": [
        "#17 display the multiplication table\n",
        "\n",
        "a=int(input(\"Enter number: \"))\n",
        "for i in range(1,11):\n",
        "  print(a*i)"
      ],
      "execution_count": 18,
      "outputs": [
        {
          "output_type": "stream",
          "text": [
            "Enter number: 6\n",
            "6\n",
            "12\n",
            "18\n",
            "24\n",
            "30\n",
            "36\n",
            "42\n",
            "48\n",
            "54\n",
            "60\n"
          ],
          "name": "stdout"
        }
      ]
    },
    {
      "cell_type": "code",
      "metadata": {
        "id": "NePsOkLW2ER5",
        "colab_type": "code",
        "colab": {
          "base_uri": "https://localhost:8080/",
          "height": 136
        },
        "outputId": "86500daa-ef0e-4f53-f5b7-3ca2331c2910"
      },
      "source": [
        "#18 fibonacci sequences\n",
        "\n",
        "nterms = int(input(\"How many terms? \"))\n",
        "n1, n2 = 0, 1\n",
        "count = 0\n",
        "if nterms <= 0:\n",
        "   print(\"Please enter a positive integer\")\n",
        "elif nterms == 1:\n",
        "   print(\"Fibonacci sequence upto\",nterms,\":\")\n",
        "   print(n1)\n",
        "else:\n",
        "   print(\"Fibonacci sequence:\")\n",
        "   while count < nterms:\n",
        "       print(n1)\n",
        "       nth = n1 + n2\n",
        "       # update values\n",
        "       n1 = n2\n",
        "       n2 = nth\n",
        "       count += 1"
      ],
      "execution_count": 20,
      "outputs": [
        {
          "output_type": "stream",
          "text": [
            "How many terms? 5\n",
            "Fibonacci sequence:\n",
            "0\n",
            "1\n",
            "1\n",
            "2\n",
            "3\n"
          ],
          "name": "stdout"
        }
      ]
    },
    {
      "cell_type": "code",
      "metadata": {
        "id": "DLajN14H2iuF",
        "colab_type": "code",
        "colab": {
          "base_uri": "https://localhost:8080/",
          "height": 51
        },
        "outputId": "3c842d0d-1c11-4e44-b8d1-18172df0d96c"
      },
      "source": [
        "#19 check whether a number is armstrong or not\n",
        "\n",
        "num = int(input(\"Enter a number: \"))\n",
        "sum = 0\n",
        "temp = num\n",
        "while temp > 0:\n",
        "   digit = temp % 10\n",
        "   sum += digit ** 3\n",
        "   temp //= 10\n",
        "\n",
        "if num == sum:\n",
        "   print(num,\"is an Armstrong number\")\n",
        "else:\n",
        "   print(num,\"is not an Armstrong number\")"
      ],
      "execution_count": 21,
      "outputs": [
        {
          "output_type": "stream",
          "text": [
            "Enter a number: 121\n",
            "121 is not an Armstrong number\n"
          ],
          "name": "stdout"
        }
      ]
    },
    {
      "cell_type": "code",
      "metadata": {
        "id": "YRwqhfBG3CN1",
        "colab_type": "code",
        "colab": {
          "base_uri": "https://localhost:8080/",
          "height": 34
        },
        "outputId": "e13eb004-7267-4ce7-9580-39af271b822e"
      },
      "source": [
        "#20 find numbers divisible by another number\n",
        "\n",
        "my_list = [12, 65, 54, 39, 102, 339, 221,]\n",
        "result = list(filter(lambda x: (x % 13 == 0), my_list))\n",
        "print(\"Numbers divisible by 13 are\",result)\n"
      ],
      "execution_count": 22,
      "outputs": [
        {
          "output_type": "stream",
          "text": [
            "Numbers divisible by 13 are [65, 39, 221]\n"
          ],
          "name": "stdout"
        }
      ]
    },
    {
      "cell_type": "code",
      "metadata": {
        "id": "vSJ-E2Fh38XL",
        "colab_type": "code",
        "colab": {
          "base_uri": "https://localhost:8080/",
          "height": 102
        },
        "outputId": "524db3df-d3e8-4111-9f68-917fac6a6584"
      },
      "source": [
        "#21 convert decimal to binary, octal to hexadecimal\n",
        "\n",
        "a =int(input(\"Enter number: \"))\n",
        "\n",
        "print(\"The decimal value is: \",a)\n",
        "print(bin(a), \"in binary.\")\n",
        "print(oct(a), \"in octal.\")\n",
        "print(hex(a), \"in hexadecimal.\")"
      ],
      "execution_count": 23,
      "outputs": [
        {
          "output_type": "stream",
          "text": [
            "Enter number: 56\n",
            "The decimal value is:  56\n",
            "0b111000 in binary.\n",
            "0o70 in octal.\n",
            "0x38 in hexadecimal.\n"
          ],
          "name": "stdout"
        }
      ]
    },
    {
      "cell_type": "code",
      "metadata": {
        "id": "_PYRJSAa4cKd",
        "colab_type": "code",
        "colab": {
          "base_uri": "https://localhost:8080/",
          "height": 51
        },
        "outputId": "84c0cd8d-6ab3-4aee-c46e-8599c5794cdd"
      },
      "source": [
        "#22 find ascii value of a character\n",
        "\n",
        "a=input(\"Enter character: \")\n",
        "print(\"ASCII character is: \",ord(a))"
      ],
      "execution_count": 26,
      "outputs": [
        {
          "output_type": "stream",
          "text": [
            "Enter character: a\n",
            "ASCII character is:  97\n"
          ],
          "name": "stdout"
        }
      ]
    },
    {
      "cell_type": "code",
      "metadata": {
        "id": "Z39W64LF5PmT",
        "colab_type": "code",
        "colab": {
          "base_uri": "https://localhost:8080/",
          "height": 68
        },
        "outputId": "83bd2135-2fb7-4b39-9d06-8ade0478859a"
      },
      "source": [
        "#23 find hcf\n",
        "\n",
        "def compute_hcf(x, y):\n",
        "    if x > y:\n",
        "        smaller = y\n",
        "    else:\n",
        "        smaller = x\n",
        "    for i in range(1, smaller+1):\n",
        "        if((x % i == 0) and (y % i == 0)):\n",
        "            hcf = i \n",
        "    return hcf\n",
        "\n",
        "num1 = int(input(\"Enter number: \"))\n",
        "num2 =int(input(\"Enter number: \"))\n",
        "\n",
        "print(\"The H.C.F. is\", compute_hcf(num1, num2))"
      ],
      "execution_count": 27,
      "outputs": [
        {
          "output_type": "stream",
          "text": [
            "Enter number: 859\n",
            "Enter number: 758\n",
            "The H.C.F. is 1\n"
          ],
          "name": "stdout"
        }
      ]
    },
    {
      "cell_type": "code",
      "metadata": {
        "id": "62wj6uvw5va_",
        "colab_type": "code",
        "colab": {
          "base_uri": "https://localhost:8080/",
          "height": 68
        },
        "outputId": "e6649293-f005-437a-e324-2217bdcda8d0"
      },
      "source": [
        "#24 find lcm\n",
        "\n",
        "def compute_lcm(x, y):\n",
        "\n",
        "   # choose the greater number\n",
        "   if x > y:\n",
        "       greater = x\n",
        "   else:\n",
        "       greater = y\n",
        "\n",
        "   while(True):\n",
        "       if((greater % x == 0) and (greater % y == 0)):\n",
        "           lcm = greater\n",
        "           break\n",
        "       greater += 1\n",
        "\n",
        "   return lcm\n",
        "\n",
        "num1 =int(input(\"Enter number: \"))\n",
        "num2 =int(input(\"Enter number: \"))\n",
        "\n",
        "print(\"The L.C.M. is\", compute_lcm(num1, num2))"
      ],
      "execution_count": 28,
      "outputs": [
        {
          "output_type": "stream",
          "text": [
            "Enter number: 8\n",
            "Enter number: 6\n",
            "The L.C.M. is 24\n"
          ],
          "name": "stdout"
        }
      ]
    },
    {
      "cell_type": "code",
      "metadata": {
        "id": "6VSqbJeu6NSo",
        "colab_type": "code",
        "colab": {
          "base_uri": "https://localhost:8080/",
          "height": 119
        },
        "outputId": "9800d211-8f54-4e3b-db4b-4c8737bd60ac"
      },
      "source": [
        "#25 shuffle dack of cards\n",
        "\n",
        "import itertools, random\n",
        "deck = list(itertools.product(range(1,14),['Spade','Heart','Diamond','Club']))\n",
        "random.shuffle(deck)\n",
        "print(\"You got:\")\n",
        "for i in range(5):\n",
        "   print(deck[i][0], \"of\", deck[i][1])"
      ],
      "execution_count": 29,
      "outputs": [
        {
          "output_type": "stream",
          "text": [
            "You got:\n",
            "1 of Diamond\n",
            "8 of Diamond\n",
            "6 of Diamond\n",
            "4 of Spade\n",
            "5 of Diamond\n"
          ],
          "name": "stdout"
        }
      ]
    },
    {
      "cell_type": "code",
      "metadata": {
        "id": "t8tRQN3Z7NCN",
        "colab_type": "code",
        "colab": {
          "base_uri": "https://localhost:8080/",
          "height": 187
        },
        "outputId": "ad73f629-14a4-4b4f-b7a8-e3a6e31aea56"
      },
      "source": [
        "#26 display calendar\n",
        "\n",
        "import calendar\n",
        "yy = int(input(\"Enter year: \"))\n",
        "mm = int(input(\"Enter month: \"))\n",
        "print(calendar.month(yy, mm))"
      ],
      "execution_count": 30,
      "outputs": [
        {
          "output_type": "stream",
          "text": [
            "Enter year: 2001\n",
            "Enter month: 10\n",
            "    October 2001\n",
            "Mo Tu We Th Fr Sa Su\n",
            " 1  2  3  4  5  6  7\n",
            " 8  9 10 11 12 13 14\n",
            "15 16 17 18 19 20 21\n",
            "22 23 24 25 26 27 28\n",
            "29 30 31\n",
            "\n"
          ],
          "name": "stdout"
        }
      ]
    },
    {
      "cell_type": "code",
      "metadata": {
        "id": "Hvj4QaKx7pK2",
        "colab_type": "code",
        "colab": {
          "base_uri": "https://localhost:8080/",
          "height": 221
        },
        "outputId": "0a1942cd-af71-40ff-e655-b5defc612076"
      },
      "source": [
        "#27 display fibonacci sequence \n",
        "\n",
        "def recur_fibo(n):\n",
        "   if n <= 1:\n",
        "       return n\n",
        "   else:\n",
        "       return(recur_fibo(n-1) + recur_fibo(n-2))\n",
        "\n",
        "nterms = int(input(\"Enter Terms: \"))\n",
        "\n",
        "# check if the number of terms is valid\n",
        "if nterms <= 0:\n",
        "   print(\"Plese enter a positive integer\")\n",
        "else:\n",
        "   print(\"Fibonacci sequence:\")\n",
        "   for i in range(nterms):\n",
        "       print(recur_fibo(i))"
      ],
      "execution_count": 32,
      "outputs": [
        {
          "output_type": "stream",
          "text": [
            "Enter Terms: 10\n",
            "Fibonacci sequence:\n",
            "0\n",
            "1\n",
            "1\n",
            "2\n",
            "3\n",
            "5\n",
            "8\n",
            "13\n",
            "21\n",
            "34\n"
          ],
          "name": "stdout"
        }
      ]
    },
    {
      "cell_type": "code",
      "metadata": {
        "id": "iowtw2Pi8GxB",
        "colab_type": "code",
        "colab": {
          "base_uri": "https://localhost:8080/",
          "height": 68
        },
        "outputId": "2c0e2414-9d9b-4687-87c1-328d11a1f751"
      },
      "source": [
        "#28 Add two matrices\n",
        "\n",
        "X = [[12,7,3],\n",
        "    [4 ,5,6],\n",
        "    [7 ,8,9]]\n",
        "\n",
        "Y = [[5,8,1],\n",
        "    [6,7,3],\n",
        "    [4,5,9]]\n",
        "\n",
        "result = [[0,0,0],\n",
        "         [0,0,0],\n",
        "         [0,0,0]]\n",
        "\n",
        "for i in range(len(X)):\n",
        "   for j in range(len(X[0])):\n",
        "       result[i][j] = X[i][j] + Y[i][j]\n",
        "\n",
        "for r in result:\n",
        "   print(r)\n"
      ],
      "execution_count": 33,
      "outputs": [
        {
          "output_type": "stream",
          "text": [
            "[17, 15, 4]\n",
            "[10, 12, 9]\n",
            "[11, 13, 18]\n"
          ],
          "name": "stdout"
        }
      ]
    },
    {
      "cell_type": "code",
      "metadata": {
        "id": "K_7y5qLg8avo",
        "colab_type": "code",
        "colab": {
          "base_uri": "https://localhost:8080/",
          "height": 51
        },
        "outputId": "85f03380-947d-43ef-b937-733107f23602"
      },
      "source": [
        "# 29 find transpose of a matrix\n",
        "\n",
        "X = [[12,7],\n",
        "    [4 ,5],\n",
        "    [3 ,8]]\n",
        "\n",
        "result = [[0,0,0],\n",
        "         [0,0,0]]\n",
        "\n",
        "# iterate through rows\n",
        "for i in range(len(X)):\n",
        "   # iterate through columns\n",
        "   for j in range(len(X[0])):\n",
        "       result[j][i] = X[i][j]\n",
        "\n",
        "for r in result:\n",
        "   print(r)"
      ],
      "execution_count": 34,
      "outputs": [
        {
          "output_type": "stream",
          "text": [
            "[12, 4, 3]\n",
            "[7, 5, 8]\n"
          ],
          "name": "stdout"
        }
      ]
    },
    {
      "cell_type": "code",
      "metadata": {
        "id": "sKxYuHZc8yZL",
        "colab_type": "code",
        "colab": {
          "base_uri": "https://localhost:8080/",
          "height": 68
        },
        "outputId": "d7fed484-9924-4330-c5e9-478662f84c95"
      },
      "source": [
        "#30 multiply 2 matrices\n",
        "\n",
        "X = [[12,7,3],\n",
        "    [4 ,5,6],\n",
        "    [7 ,8,9]]\n",
        "Y = [[5,8,1,2],\n",
        "    [6,7,3,0],\n",
        "    [4,5,9,1]]\n",
        "result = [[0,0,0,0],\n",
        "         [0,0,0,0],\n",
        "         [0,0,0,0]]\n",
        "\n",
        "# iterate through rows of X\n",
        "for i in range(len(X)):\n",
        "   # iterate through columns of Y\n",
        "   for j in range(len(Y[0])):\n",
        "       # iterate through rows of Y\n",
        "       for k in range(len(Y)):\n",
        "           result[i][j] += X[i][k] * Y[k][j]\n",
        "\n",
        "for r in result:\n",
        "   print(r)"
      ],
      "execution_count": 35,
      "outputs": [
        {
          "output_type": "stream",
          "text": [
            "[114, 160, 60, 27]\n",
            "[74, 97, 73, 14]\n",
            "[119, 157, 112, 23]\n"
          ],
          "name": "stdout"
        }
      ]
    },
    {
      "cell_type": "code",
      "metadata": {
        "id": "RAWzcbF89GxZ",
        "colab_type": "code",
        "colab": {}
      },
      "source": [
        ""
      ],
      "execution_count": null,
      "outputs": []
    }
  ]
}